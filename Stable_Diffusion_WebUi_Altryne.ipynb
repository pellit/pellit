{
  "nbformat": 4,
  "nbformat_minor": 0,
  "metadata": {
    "colab": {
      "name": "Stable Diffusion WebUi - Altryne",
      "provenance": [],
      "collapsed_sections": [
        "4eodrBxeCgOW",
        "RXasLtrYC9uj",
        "MVJzvQGdDn6C",
        "vhZQqFGxEHcA",
        "Wt_tzv_eJ9Qz",
        "ip0o1IqmQNON",
        "E1kYjBY9Rmi-"
      ],
      "machine_shape": "hm",
      "include_colab_link": true
    },
    "kernelspec": {
      "name": "python3",
      "display_name": "Python 3"
    },
    "language_info": {
      "name": "python"
    },
    "accelerator": "GPU",
    "gpuClass": "standard"
  },
  "cells": [
    {
      "cell_type": "markdown",
      "metadata": {
        "id": "view-in-github",
        "colab_type": "text"
      },
      "source": [
        "<a href=\"https://colab.research.google.com/github/pellit/pellit/blob/main/Stable_Diffusion_WebUi_Altryne.ipynb\" target=\"_parent\"><img src=\"https://colab.research.google.com/assets/colab-badge.svg\" alt=\"Open In Colab\"/></a>"
      ]
    },
    {
      "cell_type": "markdown",
      "source": [
        "# Welcome to Stable Diffusion WebUI 1.4! by [@altryne](https://twitter.com/altryne/) |  [![ko-fi](https://ko-fi.com/img/githubbutton_sm.svg)](https://ko-fi.com/N4N3DWMR1) \n",
        "\n",
        "This colab runs the latest webui version from the repo https://github.com/hlky/stable-diffusion-webui\n",
        "\n",
        "---\n",
        "\n",
        "If this colab helped you, support me on ko-fi and don't forget to subscribe to my awesome list https://github.com/altryne/awesome-ai-art-image-synthesis\n"
      ],
      "metadata": {
        "id": "jnXUwtACCHOy"
      }
    },
    {
      "cell_type": "markdown",
      "source": [
        "## 1 -  Setup stage"
      ],
      "metadata": {
        "id": "4eodrBxeCgOW"
      }
    },
    {
      "cell_type": "code",
      "execution_count": null,
      "metadata": {
        "id": "cAsdhafsBvEr",
        "outputId": "e8510d15-10b1-4b2e-89bc-e0891b375205",
        "colab": {
          "base_uri": "https://localhost:8080/"
        }
      },
      "outputs": [
        {
          "output_type": "stream",
          "name": "stdout",
          "text": [
            "GPU 0: Tesla P100-PCIE-16GB (UUID: GPU-29dd0cba-97ef-7721-4c2e-e5406353cdaf)\n"
          ]
        }
      ],
      "source": [
        "!nvidia-smi -L"
      ]
    },
    {
      "cell_type": "markdown",
      "source": [
        "### 1.1 Download repo and install\n",
        "\n",
        "Clone git repo and setup miniconda\n",
        "\n",
        "After runtime is executed, colab will complain that it crashed, but everything is fine, just hit run on the next cell or Runtime-> Run After\n",
        "\n"
      ],
      "metadata": {
        "id": "RXasLtrYC9uj"
      }
    },
    {
      "cell_type": "code",
      "source": [
        "#@markdown ## Download the stable-diffusion repo from hlky\n",
        "#@markdown And install colab related conda\n",
        "!git clone https://github.com/hlky/stable-diffusion\n",
        "%cd /content/stable-diffusion\n",
        "!git checkout c0c2a7c0d55561cfb6f42a3681346b9b70749ff1\n",
        "!pip install -e .\n",
        "!pip install condacolab\n",
        "import condacolab\n",
        "condacolab.install_miniconda()"
      ],
      "metadata": {
        "cellView": "form",
        "id": "LSCxESSsDGVh"
      },
      "execution_count": null,
      "outputs": []
    },
    {
      "cell_type": "markdown",
      "source": [
        "### 1.2 Environment setup\n",
        "Setup envoroment, Gfpgan and Real-ESRGAN\n",
        "Setup takes about 5-6 minutes"
      ],
      "metadata": {
        "id": "MVJzvQGdDn6C"
      }
    },
    {
      "cell_type": "code",
      "source": [
        "#@markdown ### Set up conda environment - Takes a while\n",
        "!conda env update -n base -f /content/stable-diffusion/environment.yaml "
      ],
      "metadata": {
        "id": "PvH2zyoiD0q8"
      },
      "execution_count": null,
      "outputs": []
    },
    {
      "cell_type": "markdown",
      "source": [
        "### 1.3 Setup Upscalers - CFPGan and ESRGAN"
      ],
      "metadata": {
        "id": "vhZQqFGxEHcA"
      }
    },
    {
      "cell_type": "code",
      "source": [
        "\n",
        "#@markdown ### Build upscalers support\n",
        "#@markdown **GFPGAN** Automatically correct distorted faces with a built-in GFPGAN option, fixes them in less than half a second\n",
        "#@markdown **ESRGAN** Boosts the resolution of images with a built-in RealESRGAN option\n",
        "add_CFP = True #@param {type:\"boolean\"} \n",
        "add_ESR = True #@param {type:\"boolean\"} \n",
        "\n",
        "if add_CFP:\n",
        "    %cd /content/stable-diffusion/src/gfpgan/\n",
        "    !pip install basicsr facexlib yapf lmdb opencv-python pyyaml tb-nightly --no-deps\n",
        "    !python setup.py develop\n",
        "    !pip install realesrgan\n",
        "    !wget https://github.com/TencentARC/GFPGAN/releases/download/v1.3.0/GFPGANv1.3.pth -P experiments/pretrained_models\n",
        "if add_ESR:\n",
        "  %cd /content/stable-diffusion/src/realesrgan/\n",
        "  !wget https://github.com/xinntao/Real-ESRGAN/releases/download/v0.1.0/RealESRGAN_x4plus.pth -P experiments/pretrained_models\n",
        "  !wget https://github.com/xinntao/Real-ESRGAN/releases/download/v0.2.2.4/RealESRGAN_x4plus_anime_6B.pth -P experiments/pretrained_models\n",
        "\n",
        "%cd /content/stable-diffusion/\n",
        "!wget https://github.com/matomo-org/travis-scripts/blob/master/fonts/Arial.ttf?raw=true -O arial.ttf"
      ],
      "metadata": {
        "cellView": "form",
        "id": "M3o7slcTEQvp"
      },
      "execution_count": null,
      "outputs": []
    },
    {
      "cell_type": "code",
      "source": [
        "#@markdown # Load the stable-diffusion model (requires Gdrive)\n",
        "#@markdown If you don't already have it in your google drive, download the stable-diffusion model from [hugging face](https://huggingface.co/CompVis/stable-diffusion-v1-4)\n",
        "\n",
        "#@markdown Then upload the file to your google drive (you'll be asked to connect it in the next step)\n",
        "\n",
        "#@markdown **Model Path Variables**\n",
        "# ask for the link\n",
        "print(\"Local Path Variables:\\n\")\n",
        "\n",
        "models_path = \"/content/models\" #@param {type:\"string\"}\n",
        "output_path = \"/content/output\" #@param {type:\"string\"}\n",
        "\n",
        "#@markdown **Google Drive Path Variables (Optional)**\n",
        "mount_google_drive = True #@param {type:\"boolean\"}\n",
        "force_remount = False\n",
        "\n",
        "if mount_google_drive:\n",
        "    from google.colab import drive\n",
        "    try:\n",
        "        drive_path = \"/content/drive\"\n",
        "        drive.mount(drive_path,force_remount=force_remount)\n",
        "        models_path_gdrive = \"/content/drive/MyDrive/AI/models\" #@param {type:\"string\"}\n",
        "        output_path_gdrive = \"/content/drive/MyDrive/AI/StableDiffusion\" #@param {type:\"string\"}\n",
        "        models_path = models_path_gdrive\n",
        "        output_path = output_path_gdrive\n",
        "    except:\n",
        "        print(\"...error mounting drive or with drive path variables\")\n",
        "        print(\"...reverting to default path variables\")\n",
        "\n",
        "import os\n",
        "os.makedirs(models_path, exist_ok=True)\n",
        "os.makedirs(output_path, exist_ok=True)\n",
        "\n",
        "print(f\"models_path: {models_path}\")\n",
        "print(f\"output_path: {output_path}\")"
      ],
      "metadata": {
        "cellView": "form",
        "id": "vkgBVo5OEpqn"
      },
      "execution_count": null,
      "outputs": []
    },
    {
      "cell_type": "markdown",
      "source": [
        "## 2 - Run the Stable Diffusion webui"
      ],
      "metadata": {
        "id": "Wt_tzv_eJ9Qz"
      }
    },
    {
      "cell_type": "markdown",
      "source": [
        "### 2.1 Optional - Set webUI settings and configs before running "
      ],
      "metadata": {
        "id": "ip0o1IqmQNON"
      }
    },
    {
      "cell_type": "code",
      "source": [
        "#@markdown # Launch preferences - Advanced\n",
        "share_password=\"\" #@param {type:\"string\"}\n",
        "#@markdown * Add a password to your webui\n",
        "defaults=\"configs/webui/webui.yaml\" #@param {type:\"string\"}\n",
        "#@markdown * path to configuration file providing UI defaults, uses same format as cli parameter)  \n",
        "#@markdown Edit this file if you want to change the default settings UI launches with\n",
        "\n",
        "#@markdown ---\n",
        "save_metadata = False #@param {type:\"boolean\"}\n",
        "#@markdown * Whether to embed the generation parameters in the sample images\n",
        "skip_grid = False #@param {type:\"boolean\"}\n",
        "#@markdown * Do not save a grid, only individual samples. Helpful when evaluating lots of samples\n",
        "skip_save = False #@param {type:\"boolean\"}\n",
        "#@markdown * Do not save individual samples as files. For speed measurements\n",
        "optimized = False #@param {type:\"boolean\"}\n",
        "#@markdown * Load the model onto the device piecemeal instead of all at once to reduce VRAM usage at the cost of performance\n",
        "optimized_turbo = True #@param {type:\"boolean\"}\n",
        "#@markdown * Alternative optimization mode that does not save as much VRAM but runs siginificantly faster\n",
        "no_verify_input = False #@param {type:\"boolean\"}\n",
        "#@markdown * Do not verify input to check if it's too long\n",
        "no_half = False #@param {type:\"boolean\"}\n",
        "#@markdown * Do not switch the model to 16-bit floats\n",
        "no_progressbar_hiding = True #@param {type:\"boolean\"}\n",
        "#@markdown * Do not hide progressbar in gradio UI\n",
        "extra_models_cpu = False #@param {type:\"boolean\"}\n",
        "#@markdown * Run extra models (GFGPAN/ESRGAN) on cpu\n",
        "esrgan_cpu = True #@param {type:\"boolean\"}\n",
        "#@markdown * run ESRGAN on cpu\n",
        "gfpgan_cpu = True #@param {type:\"boolean\"}\n",
        "#@markdown * run GFPGAN on cpu\n",
        "\n",
        "\n",
        "run_string_with_variables = {\n",
        " '--save-metadata': f'{save_metadata}',\n",
        " '--skip-grid': f'{skip_grid}',\n",
        " '--skip-save': f'{skip_save}',\n",
        " '--optimized': f'{optimized}',\n",
        " '--optimized-turbo': f'{optimized_turbo}',\n",
        " '--no-verify-input': f'{no_verify_input}',\n",
        " '--no-half': f'{no_half}',\n",
        " '--no-progressbar-hiding': f'{no_progressbar_hiding}',\n",
        " '--extra-models-cpu': f'{extra_models_cpu}',\n",
        " '--esrgan-cpu': f'{esrgan_cpu}',\n",
        " '--gfpgan-cpu': f'{gfpgan_cpu}'}\n",
        "\n",
        "only_true_vars = {k for (k,v) in run_string_with_variables.items() if v == 'True'}\n",
        "vars = \" \".join(only_true_vars)\n"
      ],
      "metadata": {
        "cellView": "form",
        "id": "3t1DaxIfRmSm"
      },
      "execution_count": null,
      "outputs": []
    },
    {
      "cell_type": "markdown",
      "source": [
        "## 3 - Launch WebUI for stable diffusion"
      ],
      "metadata": {
        "id": "E1kYjBY9Rmi-"
      }
    },
    {
      "cell_type": "code",
      "source": [
        "#@markdown ** keep in mind that this script is set to run for ever, google will disconnect you after 90 minutes on free tiers\n",
        "\n",
        "#@markdown # Important - click the public URL to launch WebUI in another tab\n",
        "#@markdown ![](https://user-images.githubusercontent.com/463317/187105407-dd9b0f4e-c8da-49d3-8c78-1767f5c9aa83.jpg)\n",
        "\n",
        "%cd /content/stable-diffusion\n",
        "!python /content/stable-diffusion/scripts/webui.py \\\n",
        "--ckpt '{models_path}/sd-v1-4.ckpt' \\\n",
        "--outdir '{output_path}' \\\n",
        "--share {vars}\n",
        "\n"
      ],
      "metadata": {
        "id": "BTH_drY9KZ4k"
      },
      "execution_count": null,
      "outputs": []
    }
  ]
}